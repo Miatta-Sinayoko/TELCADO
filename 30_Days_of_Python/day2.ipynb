{
 "cells": [
  {
   "cell_type": "markdown",
   "id": "5514832a",
   "metadata": {},
   "source": [
    "# Day 2: Strings, Variables, and Getting Input from Users"
   ]
  },
  {
   "cell_type": "markdown",
   "id": "60631f48",
   "metadata": {},
   "source": [
    "Welcome to day 2 of the **30 Days of Python** series! In this post we’re going to be talking about how to use strings, getting user input, and naming values in our programs using variables.\n",
    "\n",
    "If you missed **day 1**, I’d recommend checking it out if you’re not comfortable with any of the following:\n",
    "\n",
    "- Integers\n",
    "- Floats\n",
    "- Simple arithmetic operators (+, -, /, and *)\n",
    "- The print function\n",
    "- What expressions are\n",
    "\n",
    "Without further ado, let’s talk about strings."
   ]
  },
  {
   "cell_type": "markdown",
   "id": "d24462fb",
   "metadata": {},
   "source": [
    "## String basics\n",
    "\n",
    "Strings in Python are ordered sequences of zero or more characters, and we can use them to represent arbitrary collections of symbols. This might be words, whole sentences, or random strings of letters, numerals, and punctuation. Strings are sometimes called \"string literals\"."
   ]
  },
  {
   "cell_type": "code",
   "execution_count": 1,
   "id": "a160503a",
   "metadata": {},
   "outputs": [
    {
     "data": {
      "text/plain": [
       "'This is a string!'"
      ]
     },
     "execution_count": 1,
     "metadata": {},
     "output_type": "execute_result"
    }
   ],
   "source": [
    "# In order to create a string, we just need to wrap some series of characters in quotation marks:\n",
    "\n",
    "\"This is a string!\""
   ]
  },
  {
   "cell_type": "code",
   "execution_count": 2,
   "id": "c840310b",
   "metadata": {},
   "outputs": [
    {
     "data": {
      "text/plain": [
       "'This is also a valid string!'"
      ]
     },
     "execution_count": 2,
     "metadata": {},
     "output_type": "execute_result"
    }
   ],
   "source": [
    "# We can use single or double quotes. They don’t have any different meaning in Python, and there’s no strong reason you should exclusively use one or the other.\n",
    "\n",
    "'This is also a valid string!'"
   ]
  },
  {
   "cell_type": "code",
   "execution_count": 3,
   "id": "ed7434d6",
   "metadata": {},
   "outputs": [
    {
     "ename": "SyntaxError",
     "evalue": "unterminated string literal (detected at line 3) (3016608126.py, line 3)",
     "output_type": "error",
     "traceback": [
      "\u001b[0;36m  Cell \u001b[0;32mIn[3], line 3\u001b[0;36m\u001b[0m\n\u001b[0;31m    'This is not valid string!\"\u001b[0m\n\u001b[0m    ^\u001b[0m\n\u001b[0;31mSyntaxError\u001b[0m\u001b[0;31m:\u001b[0m unterminated string literal (detected at line 3)\n"
     ]
    }
   ],
   "source": [
    "# We can’t, however, start a string with one type of quote and end the string with a different type. This is invalid syntax:\n",
    "\n",
    "'This is not valid string!\""
   ]
  },
  {
   "cell_type": "code",
   "execution_count": 4,
   "id": "f8e40aa0",
   "metadata": {},
   "outputs": [
    {
     "name": "stdout",
     "output_type": "stream",
     "text": [
      "Hello, world!\n"
     ]
    }
   ],
   "source": [
    "# Printing strings works just like it does for numbers. We can just pass in a string when calling the print function, like so:\n",
    "\n",
    "print(\"Hello, world!\")"
   ]
  },
  {
   "cell_type": "code",
   "execution_count": 5,
   "id": "13d9ed0b",
   "metadata": {},
   "outputs": [
    {
     "data": {
      "text/plain": [
       "''"
      ]
     },
     "execution_count": 5,
     "metadata": {},
     "output_type": "execute_result"
    }
   ],
   "source": [
    "# As I said in the opening paragraph, strings are a sequence of zero or more characters, and we can define an empty string by writing a pair of quote with nothing in between:\n",
    "\n",
    "\"\""
   ]
  },
  {
   "cell_type": "code",
   "execution_count": 6,
   "id": "944c212e",
   "metadata": {},
   "outputs": [
    {
     "data": {
      "text/plain": [
       "''"
      ]
     },
     "execution_count": 6,
     "metadata": {},
     "output_type": "execute_result"
    }
   ],
   "source": [
    "# or\n",
    "\n",
    "''"
   ]
  },
  {
   "cell_type": "code",
   "execution_count": 7,
   "id": "663c5863",
   "metadata": {},
   "outputs": [
    {
     "data": {
      "text/plain": [
       "' '"
      ]
     },
     "execution_count": 7,
     "metadata": {},
     "output_type": "execute_result"
    }
   ],
   "source": [
    "# Note that this is not the same as the following:\n",
    "\n",
    "\" \""
   ]
  },
  {
   "cell_type": "code",
   "execution_count": null,
   "id": "42da144e",
   "metadata": {},
   "outputs": [],
   "source": [
    "That’s a string containing a single space, and spaces are characters, so the string is not empty."
   ]
  },
  {
   "cell_type": "markdown",
   "id": "bf2edfd4",
   "metadata": {},
   "source": [
    "## Naming values\n",
    "One vital tool that we’re missing at the moment is a way to refer to values that we’ve calculated. Remember that we can write expressions like 45 + 56, and Python does this calculation, even though we haven’t printed anything to the console. The question is, how do we refer to the result of that expression?\n",
    "\n",
    "As it happens, we can name values in Python using an assignment operation. The syntax for binding a value to a name is relatively simple. We just need to write the name we want to use, an = symbol, and the some expression. The result of the expression—the value it evaluates to—is what the name refers to. This name is called a variable."
   ]
  },
  {
   "cell_type": "code",
   "execution_count": 8,
   "id": "09ecaf48",
   "metadata": {},
   "outputs": [],
   "source": [
    "# Here are a couple of examples:\n",
    "\n",
    "name = \"Phillip Best\"\n",
    "age = 28"
   ]
  },
  {
   "cell_type": "markdown",
   "id": "7dd38cc9",
   "metadata": {},
   "source": [
    "The variable names we choose are entirely up to us, but there are a few rules we need to keep in mind:\n",
    "\n",
    "- Variable names can include letters, numbers, and underscore (_) characters.\n",
    "- Variable names can’t start with a number, though starting with an underscore is allowed.\n",
    "- Variable names are case sensitive, but can be in any case."
   ]
  },
  {
   "cell_type": "markdown",
   "id": "219bed13",
   "metadata": {},
   "source": [
    "These limitations mean that all of the following variable names are invalid:\n",
    "\n",
    "1st_value\n",
    "given-name\n",
    "john's_age\n",
    "example variable"
   ]
  },
  {
   "cell_type": "markdown",
   "id": "3d0374bd",
   "metadata": {},
   "source": [
    "- 1st_value isn’t allowed because it starts with a number.\n",
    "- given-name contains an illegal hyphen character.\n",
    "- john's_age isn’t allowed because of the apostrophe.\n",
    "- example variable includes a space, which also isn’t allowed.\n",
    "\n",
    "These rules make a lot of sense. For example, if numbers were allowed as the first character of a variable name, we’d be able to use single character names like 4. However, this is also how we create an integer and could lead to confusion.\n",
    "\n",
    "Similarly, given-name contains a - character, which conflicts with the - operator for subtraction, and john's_age has a similar issue with the ', which is used to define strings.\n",
    "\n",
    "One valid variable name which might surprise you is _. This has a special use case which we’ll touch on later in the series."
   ]
  },
  {
   "cell_type": "markdown",
   "id": "ee7ccca1",
   "metadata": {},
   "source": [
    "If we want to define variable names with multiple words, we can separate those words with an underscore, like so:\n",
    "\n",
    "given_name = \"Phillip\"\n",
    "surname = \"Best\""
   ]
  },
  {
   "cell_type": "markdown",
   "id": "161348d2",
   "metadata": {},
   "source": [
    "## Style note\n",
    "\n",
    "While we have a lot of freedom in how we define our variable names, there are some conventions that we should keep in mind to help keep our code as readable as possible."
   ]
  },
  {
   "cell_type": "code",
   "execution_count": null,
   "id": "b79c3728",
   "metadata": {},
   "outputs": [],
   "source": [
    "# The first is that we should use descriptive names for your variables. It’s perfectly legal to write the following:\n",
    "\n",
    "x = \"Phillip\"\n",
    "y = \"Best\""
   ]
  },
  {
   "cell_type": "markdown",
   "id": "655e643f",
   "metadata": {},
   "source": [
    "But the problem is, x and y don’t really mean anything. Compare this to given_name and surname, which immediately tell us what the values they refer to are. Using variables should never make your code harder to understand.\n",
    "\n",
    "Another thing which you may have noticed is that all of my variable names have been lower case. There are instances where we use capital letters for names in Python, but when we do this, it has special meaning. Until we get to those use cases, avoid using capital letters, because it’s going to give misleading information to developers familiar with Python’s naming conventions.\n",
    "\n",
    "## Referring to variables\n",
    "Now that we know how to bind values to names, the next step is learning how to retrieve those values from our variables. The good news is that this is extremely simple. All we have to do is write the variable name where we want to use the value."
   ]
  },
  {
   "cell_type": "code",
   "execution_count": null,
   "id": "299aabbd",
   "metadata": {},
   "outputs": [],
   "source": [
    "# For example, we can write something like this:\n",
    "\n",
    "hourly_wage = 20.00\n",
    "hours_worked = 40\n",
    "\n",
    "print(hourly_wage * hours_worked)"
   ]
  },
  {
   "cell_type": "markdown",
   "id": "6e974e4c",
   "metadata": {},
   "source": [
    "Here we’ve defined two variables hourly_wage, which is a float, and hours_worked which is an integer. We’ve then referred to the values and used them as operands for the * operator.\n",
    "\n",
    "If we run the code above, we should see 800.00 printed to the console. Remember that multiplying any number by a float results in a float.\n",
    "\n",
    "As it happens, referring to a variable name is another type of expression. When we write a variable name anywhere in our code, it evaluates to the value we bound to that name.\n",
    "\n",
    "But what happens if we haven’t bound anything to that name yet? Let’s have a look!\n",
    "\n",
    "## The exception"
   ]
  },
  {
   "cell_type": "code",
   "execution_count": null,
   "id": "154daaef",
   "metadata": {},
   "outputs": [],
   "source": [
    "# Let’s go over to repl.it and we’ll write a program containing only a single expression, where we refer to a variable we haven’t yet defined:\n",
    "\n",
    "name"
   ]
  },
  {
   "cell_type": "code",
   "execution_count": null,
   "id": "3dbcd2bc",
   "metadata": {},
   "outputs": [],
   "source": [
    "# If we run this program, we’re going to get some angry red text in the console, which looks something like this:\n",
    "\n",
    "Traceback (most recent call last):\n",
    "    File \"main.py\", line 1, in <module>\n",
    "        name\n",
    "NameError: name 'name' is not defined"
   ]
  },
  {
   "cell_type": "markdown",
   "id": "c826ed8d",
   "metadata": {},
   "source": [
    "This traceback and the other information provided here is extremely useful, and I highly recommend you get in the habit of reading it in detail when something goes wrong. With that in mind, I think it’s worth spending a little bit of time to learn how to read this.\n",
    "\n",
    "**Definition:** A traceback is a report that gives us information about what was happening in our code when an exception occured.\n",
    "\n",
    "The first part is the traceback itself, which is going to tell us where the exception occurred. As a side note, an exception is usually an error, but there are cases where exceptions are used for other purposes in Python as well.\n",
    "\n",
    "The traceback tells us that this exception occurred in a file called **main.py**. If you’re on **repl.it**, remember that this is the file that always get run when we press the “Run” button. It also tells us that the exception occurred on line 1. On the next line, it tells us what the problematic code is. In our case, this is the reference to the variable, name.\n",
    "\n",
    "This is all good information to know, and it lets us very quickly pinpoint where in our code we should be looking for the problem.\n",
    "\n",
    "Under the traceback, we have the name of the exception that occurred (a NameError in our case), along with some message explaining the exception in more detail. As we can see, the problem is that name is not defined. In other words, we haven’t told Python what name means in our code.\n",
    "\n",
    "There’s another situation where a NameError might occur, so let’s take a look at that:\n",
    "\n",
    "print(hourly_wage * hours_worked)\n",
    "\n",
    "hourly_wage = 20.00\n",
    "hours_worked = 40\n",
    "\n",
    "Here we’ve defined our two variable names, but if we run the code, we’re going to get the following message in the console:\n",
    "\n",
    "Traceback (most recent call last):\n",
    "    File \"main.py\", line 1, in <module>\n",
    "        print(hourly_wage * hours_worked)\n",
    "NameError: name 'hourly_wage' is not defined\n",
    "\n",
    "Once again we have an exception on line 1 of the main.py file, and once again the exception is a NameError. In this case, it’s telling us that hourly_wage is not defined. The actual problem is that both hourly_wage and hours_worked are undefined, but hourly_wage was encountered first.\n",
    "\n",
    "The reason we’re getting this error is because Python is running our code top to bottom. When it encounters print(hourly_wage * hours_worked) on line 1, it doesn’t yet know that we’ve defined hourly_wage and hours_worked later in the code. For this reason, we have to make sure to always define our variables before we use them in the code. If we don’t, Python is going to raise a NameError exception, just like we’ve seen in these examples.\n",
    "\n",
    "Getting values from the user\n",
    "So far we’ve provided all the values in our Python code, but sometimes we need to get values from the user instead. For example, maybe we want to get the user’s name and age.\n",
    "\n",
    "Luckily we don’t have to implement something like this from scratch, because Python comes with another function to do this exact job. This function is called input.\n",
    "\n",
    "We call input in exactly the same way as print, we just need to write the function name and put opening and closing parentheses directly after:\n",
    "\n",
    "input()\n",
    "\n",
    "If you run the code above, you won’t see anything in the console, but if you look at the “Run” button in repl.it, you’ll see that it says “Stop”. This means the program is still running. You’ll also find that you can type in the console.\n",
    "\n",
    "If you press enter, the program will end. That’s because when you press enter, the input function is going to stop accepting user input. Since we have no other code in our program, Python then runs out of code to execute, and terminates the program.\n",
    "\n",
    "While we can call input by just writing input(), usually we’re going to want to provide some kind of prompt, for the user to know what we want from them. Your first instinct might be to do something like this:\n",
    "\n",
    "print(\"Please enter your name:\")\n",
    "input()\n",
    "\n",
    "That’ll certainly work, but input is actually capable of providing its own prompt. We just need to write the desired prompt inside the parentheses when we call the function:\n",
    "\n",
    "input(\"Please enter your name:\")\n",
    "\n",
    "I’d encourage you to run that line of code for yourself, because there’s a bit of a problem. At the moment, the user is writing directly next to the colon I added at the end of the prompt. In order to avoid this, make sure you put a space or two at the end of your prompts. It’s going to make a big difference to the user experience.\n",
    "\n",
    "input(\"Please enter your name: \")\n",
    "\n",
    "The final piece of the puzzle is storing this value somewhere. Remember that function calls are expressions, and therefore evaluate to some value. The input function evaluates to a string which contains whatever the user wrote in response to the prompt. We can therefore assign this string to a variable if we want, like so:\n",
    "\n",
    "name = input(\"Please enter your name: \")\n",
    "\n",
    "If the user enters John, name will end up containing the name, \"John\" as a string.\n",
    "\n",
    "Exercises\n",
    "Now that we’ve covered how to use strings, variables, and the input function, it’s time to practice with some exercises.\n",
    "\n",
    "Ask the user for their name and age, assign theses values to two variables, and then print them.\n",
    "Investigate what happens when you try to assign a value to a variable that you’ve already defined. Try printing the variable before and after you reuse the name.\n",
    "Below you’ll find some code with a number of errors. Try to go through the program line by line and fix the issues in the code. I’d encourage you to try running the program while you’re working on it, as reading the error messages is great practice for debugging your own programs.\n",
    "hourly_wage = input(\"Please enter your hourly wage: ')\n",
    "\n",
    "prnt(\"Hourly wage: \")\n",
    "print(hourlywage)\n",
    "print(\"Hours worked: \")\n",
    "print(hours_worked)\n",
    "\n",
    "hours_worked = input(\"How many hours did you work this week? \")"
   ]
  }
 ],
 "metadata": {
  "kernelspec": {
   "display_name": "Python 3 (ipykernel)",
   "language": "python",
   "name": "python3"
  },
  "language_info": {
   "codemirror_mode": {
    "name": "ipython",
    "version": 3
   },
   "file_extension": ".py",
   "mimetype": "text/x-python",
   "name": "python",
   "nbconvert_exporter": "python",
   "pygments_lexer": "ipython3",
   "version": "3.10.9"
  },
  "varInspector": {
   "cols": {
    "lenName": 16,
    "lenType": 16,
    "lenVar": 40
   },
   "kernels_config": {
    "python": {
     "delete_cmd_postfix": "",
     "delete_cmd_prefix": "del ",
     "library": "var_list.py",
     "varRefreshCmd": "print(var_dic_list())"
    },
    "r": {
     "delete_cmd_postfix": ") ",
     "delete_cmd_prefix": "rm(",
     "library": "var_list.r",
     "varRefreshCmd": "cat(var_dic_list()) "
    }
   },
   "types_to_exclude": [
    "module",
    "function",
    "builtin_function_or_method",
    "instance",
    "_Feature"
   ],
   "window_display": false
  }
 },
 "nbformat": 4,
 "nbformat_minor": 5
}

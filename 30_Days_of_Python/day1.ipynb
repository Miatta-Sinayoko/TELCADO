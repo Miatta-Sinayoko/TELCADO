{
 "cells": [
  {
   "cell_type": "markdown",
   "id": "db5cb2a4",
   "metadata": {},
   "source": [
    "# 30 Days Of Python\n"
   ]
  },
  {
   "cell_type": "markdown",
   "id": "84b03e12",
   "metadata": {},
   "source": [
    "## Day 1: Numbers, Arithmetic, and Printing to the Console\n",
    "\n",
    "Python guru sitting down with a screen instead of a face, and day 01 displayed on it.\n",
    "Welcome to the first day of our 30 Days of Python series! Let's talk about different types of number in Python, printing values, and performing simple arithmetic. We’re also going to briefly discuss the concept of expressions.\n",
    "\n",
    "If you haven’t checked out the preliminary “Day 0” post, I’d recommend you take a look at that before reading any further, as it contains information on how to get set up so you can follow along with the code examples.\n",
    "\n",
    "## A little bit about Python\n",
    "The first version of Python was released 30 years ago in 1990. Since then, the language has undergone a huge amount of change, and has grown into one of the most popular programming languages in the world.\n",
    "\n",
    "One of the main strengths of Python is the readability of its code, which makes it extremely accessible. Often Python code reads just like English. Python is also extremely flexible, and can be found in a wide range of industries, from machine learning to web development.\n",
    "\n",
    "At the time of writing there are two major Python standards in active use.\n",
    "\n",
    "First we have Python 2.7 which is the most current version of Python 2. Python 2 has technically reached its end of life, and will no longer get any additional updates, but there’s still a huge amount of Python 2 code out there!\n",
    "\n",
    "The second branch of Python is Python 3, with the most current version being Python 3.9. Python 3 was intended to be a replacement for Python 2, and boasts a number of improvements along with some significant syntax changes. Code written in Python 2 may not be compatible with Python 3, and even if the code runs we may end up with unexpected behaviour.\n",
    "\n",
    "Throughout this series, we’ll be working with Python 3.\n",
    "\n"
   ]
  },
  {
   "cell_type": "markdown",
   "id": "8b2c4712",
   "metadata": {},
   "source": [
    "## Basic numbers\n",
    "In Python, we have several different ways of representing numbers, the most common of which are integers and floating point numbers—also known as floats.\n",
    "\n",
    "Integers and floats are basic numerical types in Python. Integers are used to represent whole numbers, and floats are used for real numbers with some decimal component. For example, we'd use an integer for the number 3, but a float for 3.141.\n",
    "\n",
    "Creating an integer in Python is very simple: we just have to write an integral number (also known as a whole number). For example, we can create an integer with the value 4 like so:\n",
    "\n"
   ]
  },
  {
   "cell_type": "code",
   "execution_count": 9,
   "id": "6769f862-9de3-45a9-9dcd-14bf2a75a103",
   "metadata": {},
   "outputs": [
    {
     "data": {
      "text/plain": [
       "4"
      ]
     },
     "execution_count": 9,
     "metadata": {},
     "output_type": "execute_result"
    }
   ],
   "source": [
    "4"
   ]
  },
  {
   "cell_type": "code",
   "execution_count": 8,
   "id": "d8916693",
   "metadata": {},
   "outputs": [
    {
     "data": {
      "text/plain": [
       "-6"
      ]
     },
     "execution_count": 8,
     "metadata": {},
     "output_type": "execute_result"
    }
   ],
   "source": [
    "# We can also write negative integers by putting a - before the number\n",
    "-6\n"
   ]
  },
  {
   "cell_type": "markdown",
   "id": "62f1ecf4",
   "metadata": {},
   "source": [
    "Floats are created in much the same way, but floats have some decimal component. In other words, there’s something after the decimal point, even if that thing is 0.\n",
    "\n"
   ]
  },
  {
   "cell_type": "code",
   "execution_count": 10,
   "id": "ca44498a",
   "metadata": {},
   "outputs": [
    {
     "data": {
      "text/plain": [
       "3.141"
      ]
     },
     "execution_count": 10,
     "metadata": {},
     "output_type": "execute_result"
    }
   ],
   "source": [
    "# All of these are valid floats\n",
    "4.0\n",
    "-156457.3\n",
    "3.141"
   ]
  },
  {
   "cell_type": "markdown",
   "id": "d85a8664",
   "metadata": {},
   "source": [
    "However, I’m sure that some of you have tried to run this code, and nothing seems to happen. At the very least, we don’t get any output.\n",
    "\n",
    "We need a way to see the numbers we’re creating.\n",
    "\n"
   ]
  },
  {
   "cell_type": "markdown",
   "id": "8edbd805",
   "metadata": {},
   "source": [
    "## The print function\n",
    "Luckily, Python has a built in function that outputs things to the console window for us. This function is called print.\n",
    "\n",
    "We’re going to cover functions in a lot of detail throughout this series, but for now you can think of functions as bundles of code that we can run to perform some specific action.\n",
    "\n",
    "Somebody else has kindly written the (quite complicated) code that allows us to print things to the console, and they've bundled it up in a function called print. We can run this function to perform the action of printing.\n",
    "\n",
    "The process of running a function like this is often referred to as “calling” a function.\n",
    "\n",
    "Instead of \"calling\", some say \"running\" or \"executing\" a function. They all mean the same thing!\n"
   ]
  },
  {
   "cell_type": "code",
   "execution_count": 11,
   "id": "a59a28bc",
   "metadata": {},
   "outputs": [
    {
     "name": "stdout",
     "output_type": "stream",
     "text": [
      "4\n"
     ]
    }
   ],
   "source": [
    "#Let's call the print function to print the value 4 to the console\n",
    "\n",
    "print(4)"
   ]
  },
  {
   "cell_type": "code",
   "execution_count": 2,
   "id": "54ca7908",
   "metadata": {
    "scrolled": true
   },
   "outputs": [
    {
     "name": "stdout",
     "output_type": "stream",
     "text": [
      "4\n",
      "3.141\n",
      "12345\n"
     ]
    }
   ],
   "source": [
    "# We can use this function multiple times if we want to, and values get printed out in the order of our print calls:\n",
    "print(4)\n",
    "print (3.141)\n",
    "print (12345)"
   ]
  },
  {
   "cell_type": "markdown",
   "id": "0f83e914",
   "metadata": {},
   "source": [
    "First we get 4, then on a separate line we get 3.141, and then finally we get 12345 on yet another line. As you can see, we don’t need to do anything special to print floats.\n",
    "\n",
    "## Style note\n",
    "When we call a function, the parentheses (round brackets) are written directly next to the function name. We should be writing this:\n",
    "\n"
   ]
  },
  {
   "cell_type": "code",
   "execution_count": 12,
   "id": "546f3349",
   "metadata": {},
   "outputs": [
    {
     "name": "stdout",
     "output_type": "stream",
     "text": [
      "4\n"
     ]
    }
   ],
   "source": [
    "print(4)\n"
   ]
  },
  {
   "cell_type": "markdown",
   "id": "c1ba9feb",
   "metadata": {},
   "source": [
    "Not this"
   ]
  },
  {
   "cell_type": "code",
   "execution_count": 13,
   "id": "549b9710",
   "metadata": {
    "scrolled": true
   },
   "outputs": [
    {
     "name": "stdout",
     "output_type": "stream",
     "text": [
      "4\n"
     ]
    }
   ],
   "source": [
    "#This isn’t going to affect how the code works—Python doesn’t care if we put spaces here—it’s just considered poor style, and developing a good coding style is very important. Good style is going to help make your code more readable, which is one of the most important metrics to consider when it comes to writing code.\n",
    "\n",
    "\n",
    "print (4)\n"
   ]
  },
  {
   "cell_type": "markdown",
   "id": "0d19ecfe",
   "metadata": {},
   "source": [
    "## A quick look at expressions\n",
    "Before we can move onto the next section we need to introduce a new word: expression.\n",
    "\n",
    "If something in our code evaluates to a value, it’s an expression. Bear with me, this is going to make a lot more sense in a moment.\n",
    "\n",
    "As it happens, every piece of code we’ve written so far is an expression, and there are many different types of expression in Python.\n",
    "\n",
    "For example, all the integers we've written are expressions. When Python sees each integer, it can use the value they represent.\n",
    "\n",
    "We're also about to see some simple arithmetic operations like 5 + 7, and those operations are expressions too. In the case of 5 + 7, when Python sees that, it evaluates the expression to another integer: 12.\n",
    "\n",
    "When we write print(), that is also a type of expression called a function call expression.\n",
    "\n",
    "Does that mean that print() has a value?\n",
    "\n",
    "Yes, it does, and we’ll talk a lot more about this when we get to functions later in the series.\n",
    "\n",
    "Let's look at arithmetic operators, and we’ll start to see why this concept of an expression is important.\n",
    "\n",
    "## Arithmetic operators\n",
    "One of the things that we do all the time in Python (and programming in general) is basic arithmetic. We accomplish this primarily through the use of operator symbols like +, -, /, etc.\n"
   ]
  },
  {
   "cell_type": "code",
   "execution_count": 14,
   "id": "cc72b794",
   "metadata": {
    "scrolled": true
   },
   "outputs": [
    {
     "name": "stdout",
     "output_type": "stream",
     "text": [
      "3\n",
      "14.4\n",
      "12.0\n"
     ]
    }
   ],
   "source": [
    "#For example, if we want to add two numbers together, we can place the + operator between those two numbers:\n",
    "print(1 + 2)\n",
    "print(3.4 + 11)\n",
    "print(8 + 4.0)\n"
   ]
  },
  {
   "cell_type": "markdown",
   "id": "0a9c09db",
   "metadata": {},
   "source": [
    "When we use an operator like this, we’re writing an expression. So when we write 1 + 2, Python evaluates that and we get an integer with the value 3.\n",
    "\n",
    "This is important to keep in mind, because it affects our output when we use something like print. If we try to print something like this:\n",
    "\n"
   ]
  },
  {
   "cell_type": "code",
   "execution_count": 15,
   "id": "87dce2d1",
   "metadata": {},
   "outputs": [
    {
     "name": "stdout",
     "output_type": "stream",
     "text": [
      "3\n"
     ]
    }
   ],
   "source": [
    "print(1 + 2)\n"
   ]
  },
  {
   "cell_type": "markdown",
   "id": "2a6a78f9",
   "metadata": {},
   "source": [
    "Python is not going to print out the operation, because by time print runs, 1 + 2 has already been evaluated to a single value: the integer, 3.\n",
    "\n",
    "Let’s look at a few more examples:"
   ]
  },
  {
   "cell_type": "code",
   "execution_count": 17,
   "id": "cdb46482",
   "metadata": {
    "scrolled": true
   },
   "outputs": [
    {
     "name": "stdout",
     "output_type": "stream",
     "text": [
      "3\n",
      "14.4\n",
      "12.0\n"
     ]
    }
   ],
   "source": [
    "print(1 + 2)\n",
    "print(3.4 + 11)\n",
    "print(8 + 4.0)"
   ]
  },
  {
   "cell_type": "markdown",
   "id": "da03964b",
   "metadata": {},
   "source": [
    "If you ran the code above, you might have noticed something interesting. Instead of getting 3, 14.4, and 12 printed to the console, the final result was 12.0.\n",
    "\n",
    "This is because if either of the operands for + is a float, the expression evaluates to a float. The same is true of several of the other operators, including - and * (which is used for multiplication).\n",
    "\n",
    "These two operators work in exactly the same way as +, so we don’t need to talk about them in too much detail, but here are a few examples:\n",
    "\n"
   ]
  },
  {
   "cell_type": "code",
   "execution_count": 4,
   "id": "9b7fb4d1",
   "metadata": {},
   "outputs": [
    {
     "name": "stdout",
     "output_type": "stream",
     "text": [
      "2\n",
      "-6.0\n",
      "-13\n",
      "28\n",
      "58.0\n",
      "278.79999999999995\n"
     ]
    }
   ],
   "source": [
    "print(7 - 5)\n",
    "print(5 - 11.0)\n",
    "print(-4 - 9)\n",
    "print(4 * 7)\n",
    "print(2 * 29.0)\n",
    "print(8.2 * 34)\n"
   ]
  },
  {
   "cell_type": "markdown",
   "id": "69d21b54",
   "metadata": {},
   "source": [
    "Division is performed using the / operator, but when performing division the result is always a float. It doesn’t matter if both of the numbers are integers, or if the result would usually be a whole number. You can see this by running the code below:"
   ]
  },
  {
   "cell_type": "code",
   "execution_count": 5,
   "id": "2572a2a5",
   "metadata": {
    "scrolled": true
   },
   "outputs": [
    {
     "name": "stdout",
     "output_type": "stream",
     "text": [
      "0.7692307692307693\n",
      "10.0\n",
      "11.0\n"
     ]
    }
   ],
   "source": [
    "print(5 / 6.5)\n",
    "print(20 / 2)\n",
    "print(5.5 / 0.5)\n"
   ]
  },
  {
   "cell_type": "markdown",
   "id": "da853a99",
   "metadata": {},
   "source": [
    "## Using multiple operators\n",
    "Sometimes we need to perform more complicated calculations, and this may involve the use of multiple operators. This is totally fine in Python, and we can chain as many of these arithmetic operators together as we like. Just make sure that things aren’t becoming hard to read. This is no good:\n",
    "\n"
   ]
  },
  {
   "cell_type": "code",
   "execution_count": 6,
   "id": "f1742f68",
   "metadata": {},
   "outputs": [
    {
     "data": {
      "text/plain": [
       "1193.0"
      ]
     },
     "execution_count": 6,
     "metadata": {},
     "output_type": "execute_result"
    }
   ],
   "source": [
    "5 + 4 + 8 + 565 + 454.0 + 9 + 2 + 11 + 3 + 20 + 45 + 67"
   ]
  },
  {
   "cell_type": "markdown",
   "id": "c851f6f1",
   "metadata": {},
   "source": [
    "We can also chain together different operators: they don’t all have to be + or -, etc."
   ]
  },
  {
   "cell_type": "code",
   "execution_count": 7,
   "id": "03810b42",
   "metadata": {},
   "outputs": [
    {
     "data": {
      "text/plain": [
       "9.5"
      ]
     },
     "execution_count": 7,
     "metadata": {},
     "output_type": "execute_result"
    }
   ],
   "source": [
    "5 * 3 - 6 + 2 / 4"
   ]
  },
  {
   "cell_type": "markdown",
   "id": "fb15576f",
   "metadata": {},
   "source": [
    "When we do this, the order the expressions are evaluated in corresponds to **BODMAS** (or PEMDAS, etc., if you learnt a different acronym in school).\n",
    "\n",
    "## Grouping operations with parentheses\n",
    "Just like in normal mathematics, we can use parentheses to group operations, and these expressions will be given precedence in the order of evaluation.\n",
    "\n"
   ]
  },
  {
   "cell_type": "code",
   "execution_count": 18,
   "id": "05c8351f",
   "metadata": {},
   "outputs": [
    {
     "data": {
      "text/plain": [
       "-4.0"
      ]
     },
     "execution_count": 18,
     "metadata": {},
     "output_type": "execute_result"
    }
   ],
   "source": [
    "(4 - 5) * (5 + 3) / 2"
   ]
  },
  {
   "cell_type": "markdown",
   "id": "df74c8be",
   "metadata": {},
   "source": [
    "In the line above, (4 - 5) is evaluated first, then (5 + 3). The multiplication is then performed, and finally the division. The result is an integer with the value -4.\n",
    "\n",
    "We can put this whole thing inside the parentheses when calling print if we want to see the output:"
   ]
  },
  {
   "cell_type": "code",
   "execution_count": 19,
   "id": "ca3cb749",
   "metadata": {},
   "outputs": [
    {
     "name": "stdout",
     "output_type": "stream",
     "text": [
      "-4.0\n"
     ]
    }
   ],
   "source": [
    "print((4 - 5) * (5 + 3) / 2)"
   ]
  },
  {
   "cell_type": "markdown",
   "id": "0814bd04",
   "metadata": {},
   "source": [
    "## Style note\n",
    "When we write binary operators (operators with two operands) like +, -, and *, we should put a space on either side of the operator. We don’t want to be writing code like this:"
   ]
  },
  {
   "cell_type": "code",
   "execution_count": 20,
   "id": "3e3c814c",
   "metadata": {},
   "outputs": [
    {
     "data": {
      "text/plain": [
       "2.590909090909091"
      ]
     },
     "execution_count": 20,
     "metadata": {},
     "output_type": "execute_result"
    }
   ],
   "source": [
    "1/11+4-3/2"
   ]
  },
  {
   "cell_type": "markdown",
   "id": "221cba48",
   "metadata": {},
   "source": [
    "Adding spaces makes everything much easier to read:"
   ]
  },
  {
   "cell_type": "code",
   "execution_count": 21,
   "id": "eaa6e866",
   "metadata": {},
   "outputs": [
    {
     "data": {
      "text/plain": [
       "2.590909090909091"
      ]
     },
     "execution_count": 21,
     "metadata": {},
     "output_type": "execute_result"
    }
   ],
   "source": [
    "1 / 11 + 4 - 3 / 2"
   ]
  },
  {
   "cell_type": "markdown",
   "id": "e5debaab",
   "metadata": {},
   "source": [
    "However, it can sometimes be appropriate to forego this space to group operations together. For example, like this:"
   ]
  },
  {
   "cell_type": "code",
   "execution_count": 22,
   "id": "0ecf0f43",
   "metadata": {},
   "outputs": [
    {
     "data": {
      "text/plain": [
       "2.590909090909091"
      ]
     },
     "execution_count": 22,
     "metadata": {},
     "output_type": "execute_result"
    }
   ],
   "source": [
    "1/11 + 4 - 3/2"
   ]
  },
  {
   "cell_type": "markdown",
   "id": "73efd16c",
   "metadata": {},
   "source": [
    "Grouping the operations in this way helps to remind readers of the order of operations, making clear that we’re not dealing with something like 1 / (11 + 4)"
   ]
  },
  {
   "cell_type": "markdown",
   "id": "7502c591",
   "metadata": {},
   "source": [
    "## Exercises\n",
    "Now that we’ve been through the material for this post, here are a few exercises so that you can practice:"
   ]
  },
  {
   "cell_type": "markdown",
   "id": "bc7c066f",
   "metadata": {},
   "source": [
    "1. Print your age to the console."
   ]
  },
  {
   "cell_type": "code",
   "execution_count": 27,
   "id": "6bf18601",
   "metadata": {},
   "outputs": [
    {
     "name": "stdout",
     "output_type": "stream",
     "text": [
      "print your age to the console\n"
     ]
    }
   ],
   "source": [
    "print(\"print your age to the console\")"
   ]
  },
  {
   "cell_type": "code",
   "execution_count": 35,
   "id": "48b9362f",
   "metadata": {},
   "outputs": [
    {
     "name": "stdout",
     "output_type": "stream",
     "text": [
      "25\n"
     ]
    }
   ],
   "source": [
    "# Example age \n",
    "print(25)"
   ]
  },
  {
   "cell_type": "markdown",
   "id": "4c296971",
   "metadata": {},
   "source": [
    "2. Calculate and print the number of days, weeks, and months in 27 years. Don’t worry about leap years!"
   ]
  },
  {
   "cell_type": "code",
   "execution_count": 33,
   "id": "01398572",
   "metadata": {},
   "outputs": [
    {
     "name": "stdout",
     "output_type": "stream",
     "text": [
      "9855\n",
      "1404\n",
      "324\n"
     ]
    }
   ],
   "source": [
    "print(27 * 365)\n",
    "print(27 * 52)\n",
    "print(27 * 12)\n"
   ]
  },
  {
   "cell_type": "code",
   "execution_count": 40,
   "id": "d75ba99b",
   "metadata": {},
   "outputs": [
    {
     "name": "stdout",
     "output_type": "stream",
     "text": [
      "In 27 years, there are 9855 days, 1404 weeks, and 324 months.\n"
     ]
    }
   ],
   "source": [
    "# Calculate the number of days, weeks, and months in 27 years\n",
    "days = 27 * 365\n",
    "weeks = 27 * 52\n",
    "months = 27 * 12\n",
    "\n",
    "# Print the results in a single statement\n",
    "print(f\"In 27 years, there are {days} days, {weeks} weeks, and {months} months.\")\n"
   ]
  },
  {
   "cell_type": "markdown",
   "id": "b3231245",
   "metadata": {},
   "source": [
    "3. Calculate and print the area of a circle with a radius of 5 units. You can be as accurate as you like with the value of pi."
   ]
  },
  {
   "cell_type": "code",
   "execution_count": 36,
   "id": "c2c17753",
   "metadata": {},
   "outputs": [
    {
     "data": {
      "text/plain": [
       "78.5"
      ]
     },
     "execution_count": 36,
     "metadata": {},
     "output_type": "execute_result"
    }
   ],
   "source": [
    "3.14 * 5 * 5"
   ]
  },
  {
   "cell_type": "markdown",
   "id": "8e9cfc90",
   "metadata": {},
   "source": [
    "As part of this exercise, you may want to look into what other operators are available to us in Python.\n",
    "\n",
    "When you're done, you can find solutions to the exercises **here**.\n",
    "\n",
    "I hope you found this first post helpful and interesting! See you **on Day 2**, where you'll tackle strings and handling user input!"
   ]
  }
 ],
 "metadata": {
  "kernelspec": {
   "display_name": "Python 3 (ipykernel)",
   "language": "python",
   "name": "python3"
  },
  "language_info": {
   "codemirror_mode": {
    "name": "ipython",
    "version": 3
   },
   "file_extension": ".py",
   "mimetype": "text/x-python",
   "name": "python",
   "nbconvert_exporter": "python",
   "pygments_lexer": "ipython3",
   "version": "3.10.9"
  },
  "varInspector": {
   "cols": {
    "lenName": 16,
    "lenType": 16,
    "lenVar": 40
   },
   "kernels_config": {
    "python": {
     "delete_cmd_postfix": "",
     "delete_cmd_prefix": "del ",
     "library": "var_list.py",
     "varRefreshCmd": "print(var_dic_list())"
    },
    "r": {
     "delete_cmd_postfix": ") ",
     "delete_cmd_prefix": "rm(",
     "library": "var_list.r",
     "varRefreshCmd": "cat(var_dic_list()) "
    }
   },
   "types_to_exclude": [
    "module",
    "function",
    "builtin_function_or_method",
    "instance",
    "_Feature"
   ],
   "window_display": false
  }
 },
 "nbformat": 4,
 "nbformat_minor": 5
}
